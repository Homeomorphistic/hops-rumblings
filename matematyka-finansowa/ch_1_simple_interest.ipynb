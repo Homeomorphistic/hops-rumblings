{
 "cells": [
  {
   "cell_type": "code",
   "execution_count": 1,
   "metadata": {
    "collapsed": false,
    "jupyter": {
     "outputs_hidden": false
    }
   },
   "outputs": [],
   "source": [
    "import numpy as np\n",
    "import matplotlib.pyplot as plt\n",
    "from ipywidgets import interact, IntSlider, FloatText, Text"
   ]
  },
  {
   "cell_type": "markdown",
   "metadata": {
    "collapsed": false,
    "jupyter": {
     "outputs_hidden": false
    }
   },
   "source": [
    "# Simple interest\n",
    "Okay, I know that some of you, just like me hate to get back to the basics, but if you are also like me, then you feel that you need some brush up on the subject. Let's just be quick!\n",
    "\n",
    "## Percentage\n",
    "Well, fun trivia, percentage comes from Latin _per centum_, which you guessed -- means _by hundred_ (don't quote me, it's on wiki). For us it just means a hundredth of a thing. The sign $(\\%)$ also looks like fraction right? The $20\\%$ means a $20$ pieces of a hundredth of a thing, in math terms $20 \\cdot \\frac{1}{100} = \\frac{20}{100}$. So $20\\%$ of 60 is:"
   ]
  },
  {
   "cell_type": "code",
   "execution_count": 2,
   "metadata": {
    "collapsed": false,
    "jupyter": {
     "outputs_hidden": false
    }
   },
   "outputs": [
    {
     "name": "stdout",
     "output_type": "stream",
     "text": [
      "12.0 12.0 12.0\n"
     ]
    }
   ],
   "source": [
    "x = 60 * (20/100)\n",
    "y = 60 * 1/5\n",
    "z = 60 * 0.2\n",
    "print(x,y,z)"
   ]
  },
  {
   "cell_type": "markdown",
   "metadata": {
    "collapsed": false,
    "jupyter": {
     "outputs_hidden": false
    }
   },
   "source": [
    "## 1.1 Interest capitalization\n",
    "In financial math, percentage is associated with interest, and it will be used this way throughout the book that I'm learning from.\n",
    "\n",
    "Interest capitalization is a process of adding interest to principal. This name comes from the fact, that the interest is becoming a part of principal (capital). Keep in mind, that if interest is not yet part of principal (or capital) it does not generate new interest!\n",
    "\n",
    "Ratio of interest to the initial capital is called interest rate. We often use a year as the period, for which we have annual interest rate. Let's use a certificate of deposit, as an example: we have initial capital of 100, and we gain 10 after a year. It means that the interest rate is $10\\%$\n",
    "\n",
    "$\\frac{10}{100} = 10\\%$"
   ]
  },
  {
   "cell_type": "code",
   "execution_count": 3,
   "metadata": {
    "collapsed": false,
    "jupyter": {
     "outputs_hidden": false
    }
   },
   "outputs": [
    {
     "name": "stdout",
     "output_type": "stream",
     "text": [
      "Interest rate = 10.0 %\n"
     ]
    }
   ],
   "source": [
    "x = 10/100\n",
    "print('Interest rate =', 100*x, '%')"
   ]
  },
  {
   "cell_type": "markdown",
   "metadata": {
    "collapsed": false,
    "jupyter": {
     "outputs_hidden": false
    }
   },
   "source": [
    "## 1.2 Principal of simple interest\n",
    "Interest is taken from the initial capital proportionally to the interest period/term. Important: interest is not capitalized (not added to principal)!"
   ]
  },
  {
   "cell_type": "markdown",
   "metadata": {
    "collapsed": false,
    "jupyter": {
     "outputs_hidden": false
    }
   },
   "source": [
    "## 1.3 Annual interest rate / Annual percentage rate (APR)\n",
    "Let $P>0$ be initial capital (like _present_), $n>0$ interest period in years, $r>0$ annual interest rate, $I$ interest for $n$ years, $F$ ending capital (like _future_). Using this notation we can formulate fundamental relation between initial and ending capital:\n",
    "\n",
    "\\begin{equation}\n",
    "$F = P + I$,\n",
    "\\end{equation}\n",
    "\n",
    "and relation between APR and interest:\n",
    "\n",
    "\\begin{equation}\n",
    "$r = \\frac{I}{P}$.\n",
    "\\end{equation}\n",
    "\n",
    "Usually $n \\in \\mathbb{Q}$, when representing whole years it is a natural number, but if we are interested in days then we can divide number of days by 360 or 365 depending on your choice.\n",
    "\n",
    "Using the principal of simple interest:\n",
    "\n",
    "\\begin{equation}\n",
    "$I = Prn.$\n",
    "\\end{equation}\n",
    "\n",
    "Now, we can see explicit formula for ending capital:\n",
    "\n",
    "\\begin{equation}\n",
    "F = P + Prn = P \\left( 1 + rn \\right).\n",
    "\\end{equation}\n",
    "\n",
    "This equation is called _simple interest model_, defined by interest rate $r$. Looking at it we clearly see a linear relation."
   ]
  },
  {
   "cell_type": "code",
   "execution_count": 4,
   "metadata": {
    "collapsed": false,
    "jupyter": {
     "outputs_hidden": false
    }
   },
   "outputs": [],
   "source": [
    "def simple_interest(P: float, r: float, n: int):\n",
    "    \"\"\"Compute interest using simple interest model.\n",
    "\n",
    "    :param P: The principal amount (float).\n",
    "    :param r: The annual interest rate (as a decimal) (float).\n",
    "    :param n: The number of time periods the interest is applied (int).\n",
    "\n",
    "    :return: The simple interest earned\n",
    "\n",
    "    Example:\n",
    "    >>> simple_interest(P=100, r=0.1, n=1)\n",
    "    10.0\n",
    "    \"\"\"\n",
    "    return P*r*n"
   ]
  },
  {
   "cell_type": "code",
   "execution_count": 5,
   "metadata": {
    "collapsed": false,
    "jupyter": {
     "outputs_hidden": false
    }
   },
   "outputs": [
    {
     "data": {
      "application/vnd.jupyter.widget-view+json": {
       "model_id": "9af1362cfe364ef4be2a138dbac0e9c1",
       "version_major": 2,
       "version_minor": 0
      },
      "text/plain": [
       "interactive(children=(FloatText(value=1000.0, description='P'), Text(value='.05,.1,.25', description='r'), Int…"
      ]
     },
     "metadata": {},
     "output_type": "display_data"
    }
   ],
   "source": [
    "year_slider = IntSlider(value=10, min=1, max=50)\n",
    "principal_text = FloatText(value=1000, min=1, max=10000)\n",
    "rate_text = Text(value=\".05,.1,.25\")\n",
    "\n",
    "def plot_simple_interest(P:float, r: str, year:int):\n",
    "    n = np.arange(year)\n",
    "    r = map(float, r.split(','))\n",
    "    P = 1000\n",
    "    for _r in r:\n",
    "        plt.plot(n, P + simple_interest(P, _r, n))\n",
    "\n",
    "    plt.legend(r, title=\"APR\")\n",
    "    plt.show()\n",
    "\n",
    "interact(plot_simple_interest, P=principal_text, r=rate_text, year=year_slider);"
   ]
  },
  {
   "cell_type": "markdown",
   "source": [
    "Since there is a linear relation, we can find an arithmetic progression in here. Let $F_i = P(1 + r_i)$, then:\n",
    "\n",
    "\\begin{equation}\n",
    "F_{n+1} - F_n = P\\left[ 1 + r(n+1) \\right] - P\\left( 1 + rn \\right) = Pr.\n",
    "\\end{equation}"
   ],
   "metadata": {
    "collapsed": false
   }
  },
  {
   "cell_type": "markdown",
   "source": [
    "## 1.4 Sub-period interest rate\n",
    "A period in this case regards to a fraction of the year. Let $k \\in \\mathbb{Q}^{+}$ be a number of periods, which make up a year, $i_k>0$ sub-period interest rate, $m_k>0$ interest term in sub-periods. $k=2$ relates to half a year, $k=4$ a quarter, $k=12$ a month, $k=365$ a day. It is easy to see how translate term length of sub-period interest and annual interest rate:\n",
    "\n",
    "\\begin{equation}\n",
    "m_k = nk.\n",
    "\\end{equation}\n",
    "\n",
    "In this way we obtain similar formula for ending capital:\n",
    "\n",
    "\\begin{equation}\n",
    "F = P \\left( 1+ i_k m_k \\right).\n",
    "\\end{equation}"
   ],
   "metadata": {
    "collapsed": false
   }
  },
  {
   "cell_type": "markdown",
   "source": [
    "## 1.5 Equivalence of simple interest rates\n",
    "One might ask when the interest rates are equivalent, if they can be defined in different ways.\n",
    "\n",
    "# Principal of interest rate equivalence\n",
    "Interest rates are equivalent, if for each of them, initial capital $P$ for time $n$ is generating equal interest $I$.\n",
    "\n",
    "For different sub-period interest rates $i_{k_1}$, $i_{k_2}$, we have different number of periods:\n",
    "\n",
    "\\begin{equation}\n",
    "m_{k_1} = n k_1, \\; m_{k_2} = n k_2.\n",
    "\\end{equation}\n",
    "\n",
    "They are generating interest:\n",
    "\\begin{equation}\n",
    "P m_{k_1} i_{k_1}, \\; P m_{k_2} i_{k_2}.\n",
    "\\end{equation}\n",
    "\n",
    "The equivalence principle states, that the interests must be the same, so we have an equation:\n",
    "\\begin{equation}\n",
    "P m_{k_1} i_{k_1} = P m_{k_2} i_{k_2}.\n",
    "\\end{equation}\n",
    "\n",
    "we can rewrite it to:\n",
    "\\begin{equation}\n",
    " \\frac{i_{k_1}}{i_{k_2}} = \\frac{\\frac{1}{k_1}}{\\frac{1}{k_2}}.\n",
    "\\end{equation}\n",
    "\n",
    "Because $\\frac{1}{k}$ is the length of a period in years, we can see that this principle is satisfied when ratios of interest rates is the same as their period lengths. We call those rates the _proportional rates_. Also, it is easy to see, that this relation of equivalence is transitive.\n",
    "\n",
    "In practice, we need to calculate APR equivalent to some sub-period rate or the reverse. Using $k=1$, for a year sub-period, we have:\n",
    " \\begin{equation}\n",
    "i_k = \\frac{r}{k}.\n",
    "\\end{equation}\n",
    "\n",
    "Using transitivity, we can compare any sub-period rate using its equivalent APR."
   ],
   "metadata": {
    "collapsed": false
   }
  }
 ],
 "metadata": {
  "kernelspec": {
   "display_name": "Python 3 (ipykernel)",
   "language": "python",
   "name": "python3"
  },
  "language_info": {
   "codemirror_mode": {
    "name": "ipython",
    "version": 3
   },
   "file_extension": ".py",
   "mimetype": "text/x-python",
   "name": "python",
   "nbconvert_exporter": "python",
   "pygments_lexer": "ipython3",
   "version": "3.11.3"
  }
 },
 "nbformat": 4,
 "nbformat_minor": 4
}
