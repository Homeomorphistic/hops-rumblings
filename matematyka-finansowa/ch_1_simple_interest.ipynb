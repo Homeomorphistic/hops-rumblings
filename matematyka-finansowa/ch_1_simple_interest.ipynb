{
 "cells": [
  {
   "cell_type": "markdown",
   "source": [
    "# Simple interest\n",
    "Okay, I know that some of you, just like me hate to get back to the basics, but if you are also like me, then you feel that you need some brush up on the subject. Let's just be quick!\n",
    "\n",
    "## Percentage\n",
    "Well, fun trivia, percentage comes from Latin _per centum_, which you guessed -- means _by hundred_ (don't quote me, it's on wiki). For us it just means a hundredth of a thing. The sign $(\\%)$ also looks like fraction right? The $20\\%$ means a $20$ pieces of a hundredth of a thing, in math terms $20 \\cdot \\frac{1}{100} = \\frac{20}{100}$. So $20\\%$ of 60 is:"
   ],
   "metadata": {
    "collapsed": false
   }
  },
  {
   "cell_type": "code",
   "execution_count": 3,
   "outputs": [
    {
     "name": "stdout",
     "output_type": "stream",
     "text": [
      "12.0 12.0 12.0\n"
     ]
    }
   ],
   "source": [
    "x = 60 * (20/100)\n",
    "y = 60 * 1/5\n",
    "z = 60 * 0.2\n",
    "print(x,y,z)"
   ],
   "metadata": {
    "collapsed": false
   }
  },
  {
   "cell_type": "markdown",
   "source": [
    "## Interest capitalization\n",
    "In financial math, percentage is associated with interest, and it will be used this way throughout the book that I'm learning from.\n",
    "\n",
    "Interest capitalization is a process of adding interest to principal. This name comes from the fact, that the interest is becoming a part of principal (capital). Keep in mind, that if interest is not yet part of principal (or capital) it does not generate new interest!\n",
    "\n",
    "Ratio of interest to the initial capital is called interest rate. We often use a year as the period, for which we have annual interest rate. Let's use a certificate of deposit, as an example: we have initial capital of 100, and we gain 10 after a year. It means that the interest rate is $10\\%$\n",
    "\n",
    "$\\frac{10}{100} = 10\\%$"
   ],
   "metadata": {
    "collapsed": false
   }
  },
  {
   "cell_type": "code",
   "execution_count": 5,
   "outputs": [
    {
     "name": "stdout",
     "output_type": "stream",
     "text": [
      "Interest rate = 10.0 %\n"
     ]
    }
   ],
   "source": [
    "x = 10/100\n",
    "print('Interest rate =', 100*x, '%')"
   ],
   "metadata": {
    "collapsed": false
   }
  },
  {
   "cell_type": "markdown",
   "source": [
    "## Principal of simple interest\n",
    "Interest is taken from the initial capital proportionally to the interest period/term. Important: interest is not capitalized (not added to principal)!"
   ],
   "metadata": {
    "collapsed": false
   }
  }
 ],
 "metadata": {
  "kernelspec": {
   "display_name": "Python 3",
   "language": "python",
   "name": "python3"
  },
  "language_info": {
   "codemirror_mode": {
    "name": "ipython",
    "version": 2
   },
   "file_extension": ".py",
   "mimetype": "text/x-python",
   "name": "python",
   "nbconvert_exporter": "python",
   "pygments_lexer": "ipython2",
   "version": "2.7.6"
  }
 },
 "nbformat": 4,
 "nbformat_minor": 0
}
